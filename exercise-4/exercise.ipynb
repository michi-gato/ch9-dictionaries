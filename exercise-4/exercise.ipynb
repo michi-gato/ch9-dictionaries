{
 "cells": [
  {
   "cell_type": "markdown",
   "metadata": {},
   "source": [
    "# Exercise 4\n",
    "Add the specified code for each code cell, running the cells _in order_. <small>(This exercise was adapted from [Erle Robotics S.L.](https://www.gitbook.com/@erlerobotics))</small>"
   ]
  },
  {
   "cell_type": "markdown",
   "metadata": {},
   "source": [
    "Create a _list_ **`students`** that contains dictionaries, each representing a student. A student has a `name`, as well as _lists_ of scores for each of `homework`, `quizzes`, and `tests`. Your dictionary should contain the following dictionaries for the following students:\n",
    "- Lloyd, who earned the following scores:\n",
    "    - Homework: 90, 97, 75, 92\n",
    "    - Quizzes: 88, 40, 94\n",
    "    - Exams: 75, 90\n",
    "- Alice, who earned the following scores:\n",
    "    - Homework: 100, 92, 98, 100\n",
    "    - Quizzes: 82, 83, 91\n",
    "    - Exams: 89, 97\n",
    "- Tyler, who earned the following scores:\n",
    "    - Homework: 0, 87, 75, 22\n",
    "    - Quizzes: 0, 75, 78\n",
    "    - Exams: 100, 100\n",
    "\n",
    "Print out the list after you create it."
   ]
  },
  {
   "cell_type": "code",
   "execution_count": 4,
   "metadata": {},
   "outputs": [
    {
     "name": "stdout",
     "output_type": "stream",
     "text": [
      "[{'name': 'Lloyd', 'homework': [90, 97, 75, 92], 'quizzes': [88, 40, 94], 'exams': [75, 90]}, {'name': 'Alice', 'homework': [100, 92, 98, 100], 'quizzes': [82, 83, 91], 'exams': [89, 97]}, {'name': 'Tyler', 'homework': [0, 87, 75, 22], 'quizzes': [0, 75, 78], 'exams': [100, 100]}]\n"
     ]
    }
   ],
   "source": [
    "students = [\n",
    "    {\n",
    "        'name' : \"Lloyd\",\n",
    "        'homework' : [90, 97, 75, 92],\n",
    "        'quizzes' : [88, 40, 94],\n",
    "        'exams' : [75, 90]\n",
    "    },\n",
    "    {\n",
    "        'name' : \"Alice\",\n",
    "        'homework' : [100, 92, 98, 100],\n",
    "        'quizzes' : [82, 83, 91],\n",
    "        'exams' : [89, 97]\n",
    "    },\n",
    "    {\n",
    "        'name' : \"Tyler\",\n",
    "        'homework' : [0, 87, 75, 22],\n",
    "        'quizzes' : [0, 75, 78],\n",
    "        'exams' : [100, 100]\n",
    "    }\n",
    "]\n",
    "print(students)"
   ]
  },
  {
   "cell_type": "markdown",
   "metadata": {},
   "source": [
    "Define a function **`weighted_average()`** that takes in a dictionary representing a student (as above), as well as 3 values between 0 and 1 representing the amount of weight that each of homework (default 40%), quizzes (default 40%), and tests (default 20%) receive in determing the final grade. The function should then calculate and return the overall score (between 0 and 100) based on these weights.\n",
    "- Hint: use the `sum()` function to easily sum up the scores for each category."
   ]
  },
  {
   "cell_type": "code",
   "execution_count": 20,
   "metadata": {},
   "outputs": [
    {
     "ename": "SyntaxError",
     "evalue": "invalid syntax (<ipython-input-20-b3b92ab596c5>, line 3)",
     "output_type": "error",
     "traceback": [
      "\u001b[0;36m  File \u001b[0;32m\"<ipython-input-20-b3b92ab596c5>\"\u001b[0;36m, line \u001b[0;32m3\u001b[0m\n\u001b[0;31m    quiz_score = sum(student['quizzes']) / len(student['quizzes']) # average of one student's quiz scores\u001b[0m\n\u001b[0m             ^\u001b[0m\n\u001b[0;31mSyntaxError\u001b[0m\u001b[0;31m:\u001b[0m invalid syntax\n"
     ]
    }
   ],
   "source": [
    "def weighted_average(student, hwk = 0.4, quiz = 0.4, exam = 0.2):\n",
    "    homework_score = sum(student['homework'] / len(student['homework']) # average of one students hw scores\n",
    "    quiz_score = sum(student['quizzes']) / len(student['quizzes']) # average of one student's quiz scores\n",
    "    exam_score = sum(student['exams']) / len(student['exams'])\n",
    "    return hwk*homework_score + quiz*quiz_score + exam*exam_score"
   ]
  },
  {
   "cell_type": "markdown",
   "metadata": {},
   "source": [
    "Create a variable **`anonymous_scores`** that is a list of the average scores of all the students in the class. Homework gets 10% weight, quizzes get 30% weight, and exams get 60% weight (it's not a well-designed course). Output the variable once done."
   ]
  },
  {
   "cell_type": "code",
   "execution_count": 18,
   "metadata": {},
   "outputs": [
    {
     "ename": "TypeError",
     "evalue": "unsupported operand type(s) for /: 'list' and 'int'",
     "output_type": "error",
     "traceback": [
      "\u001b[0;31m---------------------------------------------------\u001b[0m",
      "\u001b[0;31mTypeError\u001b[0m         Traceback (most recent call last)",
      "\u001b[0;32m<ipython-input-18-abbe8de6a03a>\u001b[0m in \u001b[0;36m<module>\u001b[0;34m\u001b[0m\n\u001b[1;32m      1\u001b[0m \u001b[0manonymous_scores\u001b[0m \u001b[0;34m=\u001b[0m \u001b[0;34m[\u001b[0m\u001b[0;34m]\u001b[0m\u001b[0;34m\u001b[0m\u001b[0;34m\u001b[0m\u001b[0m\n\u001b[1;32m      2\u001b[0m \u001b[0;32mfor\u001b[0m \u001b[0mstudent\u001b[0m \u001b[0;32min\u001b[0m \u001b[0mstudents\u001b[0m\u001b[0;34m:\u001b[0m\u001b[0;34m\u001b[0m\u001b[0;34m\u001b[0m\u001b[0m\n\u001b[0;32m----> 3\u001b[0;31m     \u001b[0manonymous_scores\u001b[0m\u001b[0;34m.\u001b[0m\u001b[0mappend\u001b[0m\u001b[0;34m(\u001b[0m\u001b[0mround\u001b[0m\u001b[0;34m(\u001b[0m\u001b[0mweighted_average\u001b[0m\u001b[0;34m(\u001b[0m\u001b[0mstudent\u001b[0m\u001b[0;34m,\u001b[0m \u001b[0;36m.1\u001b[0m\u001b[0;34m,\u001b[0m \u001b[0;36m.3\u001b[0m\u001b[0;34m,\u001b[0m \u001b[0;36m.6\u001b[0m\u001b[0;34m)\u001b[0m\u001b[0;34m,\u001b[0m \u001b[0;36m2\u001b[0m\u001b[0;34m)\u001b[0m\u001b[0;34m)\u001b[0m\u001b[0;34m\u001b[0m\u001b[0;34m\u001b[0m\u001b[0m\n\u001b[0m\u001b[1;32m      4\u001b[0m \u001b[0manonymous_scores\u001b[0m\u001b[0;34m\u001b[0m\u001b[0;34m\u001b[0m\u001b[0m\n",
      "\u001b[0;32m<ipython-input-13-932324c7544c>\u001b[0m in \u001b[0;36mweighted_average\u001b[0;34m(student, hwk, quiz, exam)\u001b[0m\n\u001b[1;32m      1\u001b[0m \u001b[0;32mdef\u001b[0m \u001b[0mweighted_average\u001b[0m\u001b[0;34m(\u001b[0m\u001b[0mstudent\u001b[0m\u001b[0;34m,\u001b[0m \u001b[0mhwk\u001b[0m \u001b[0;34m=\u001b[0m \u001b[0;36m0.4\u001b[0m\u001b[0;34m,\u001b[0m \u001b[0mquiz\u001b[0m \u001b[0;34m=\u001b[0m \u001b[0;36m0.4\u001b[0m\u001b[0;34m,\u001b[0m \u001b[0mexam\u001b[0m \u001b[0;34m=\u001b[0m \u001b[0;36m0.2\u001b[0m\u001b[0;34m)\u001b[0m\u001b[0;34m:\u001b[0m\u001b[0;34m\u001b[0m\u001b[0;34m\u001b[0m\u001b[0m\n\u001b[0;32m----> 2\u001b[0;31m     \u001b[0mhomework_score\u001b[0m \u001b[0;34m=\u001b[0m \u001b[0msum\u001b[0m\u001b[0;34m(\u001b[0m\u001b[0mstudent\u001b[0m\u001b[0;34m[\u001b[0m\u001b[0;34m'homework'\u001b[0m\u001b[0;34m]\u001b[0m \u001b[0;34m/\u001b[0m \u001b[0mlen\u001b[0m\u001b[0;34m(\u001b[0m\u001b[0mstudent\u001b[0m\u001b[0;34m[\u001b[0m\u001b[0;34m'homework'\u001b[0m\u001b[0;34m]\u001b[0m\u001b[0;34m)\u001b[0m\u001b[0;34m)\u001b[0m \u001b[0;31m# average of one students hw scores\u001b[0m\u001b[0;34m\u001b[0m\u001b[0;34m\u001b[0m\u001b[0m\n\u001b[0m\u001b[1;32m      3\u001b[0m     \u001b[0mquiz_score\u001b[0m \u001b[0;34m=\u001b[0m \u001b[0msum\u001b[0m\u001b[0;34m(\u001b[0m\u001b[0mstudent\u001b[0m\u001b[0;34m[\u001b[0m\u001b[0;34m'quizzes'\u001b[0m\u001b[0;34m]\u001b[0m\u001b[0;34m)\u001b[0m \u001b[0;34m/\u001b[0m \u001b[0mlen\u001b[0m\u001b[0;34m(\u001b[0m\u001b[0mstudent\u001b[0m\u001b[0;34m(\u001b[0m\u001b[0;34m[\u001b[0m\u001b[0;34m'quizzes'\u001b[0m\u001b[0;34m]\u001b[0m\u001b[0;34m)\u001b[0m\u001b[0;34m)\u001b[0m \u001b[0;31m# average of one student's quiz scores\u001b[0m\u001b[0;34m\u001b[0m\u001b[0;34m\u001b[0m\u001b[0m\n\u001b[1;32m      4\u001b[0m     \u001b[0mexam_score\u001b[0m \u001b[0;34m=\u001b[0m \u001b[0msum\u001b[0m\u001b[0;34m(\u001b[0m\u001b[0mstudent\u001b[0m\u001b[0;34m[\u001b[0m\u001b[0;34m'exams'\u001b[0m\u001b[0;34m]\u001b[0m\u001b[0;34m)\u001b[0m \u001b[0;34m/\u001b[0m \u001b[0mlen\u001b[0m\u001b[0;34m(\u001b[0m\u001b[0mstudent\u001b[0m\u001b[0;34m(\u001b[0m\u001b[0;34m[\u001b[0m\u001b[0;34m'exams'\u001b[0m\u001b[0;34m]\u001b[0m\u001b[0;34m)\u001b[0m\u001b[0;34m)\u001b[0m\u001b[0;34m\u001b[0m\u001b[0;34m\u001b[0m\u001b[0m\n\u001b[1;32m      5\u001b[0m     \u001b[0;32mreturn\u001b[0m \u001b[0mhwk\u001b[0m\u001b[0;34m*\u001b[0m\u001b[0mhomework_score\u001b[0m \u001b[0;34m+\u001b[0m \u001b[0mquiz\u001b[0m\u001b[0;34m*\u001b[0m\u001b[0mquiz_score\u001b[0m \u001b[0;34m+\u001b[0m \u001b[0mexam\u001b[0m\u001b[0;34m*\u001b[0m\u001b[0mexam_score\u001b[0m\u001b[0;34m\u001b[0m\u001b[0;34m\u001b[0m\u001b[0m\n",
      "\u001b[0;31mTypeError\u001b[0m: unsupported operand type(s) for /: 'list' and 'int'"
     ]
    }
   ],
   "source": [
    "anonymous_scores = []\n",
    "for student in students:\n",
    "    anonymous_scores.append(round(weighted_average(student, .1, .3, .6), 2))\n",
    "anonymous_scores"
   ]
  },
  {
   "cell_type": "markdown",
   "metadata": {},
   "source": [
    "Define a function **`get_letter_grade()`** that takes in a score and returns a \"letter grade\" associated with that score based on the following criteria:\n",
    "- 90-100 is an A\n",
    "- 80-90 is a B\n",
    "- 70-80 is a C\n",
    "- 60-70 is a D\n",
    "- 0-60 is an F"
   ]
  },
  {
   "cell_type": "code",
   "execution_count": null,
   "metadata": {},
   "outputs": [],
   "source": []
  },
  {
   "cell_type": "markdown",
   "metadata": {},
   "source": [
    "Assign a new key `grade` to each student in the `students` list that is the final letter grade for their work (using the same weights as you used for the anonymous scores)."
   ]
  },
  {
   "cell_type": "code",
   "execution_count": null,
   "metadata": {},
   "outputs": [],
   "source": []
  },
  {
   "cell_type": "markdown",
   "metadata": {},
   "source": [
    "Print the class's average letter grade."
   ]
  },
  {
   "cell_type": "code",
   "execution_count": null,
   "metadata": {},
   "outputs": [],
   "source": []
  }
 ],
 "metadata": {
  "kernelspec": {
   "display_name": "Python 3",
   "language": "python",
   "name": "python3"
  },
  "language_info": {
   "codemirror_mode": {
    "name": "ipython",
    "version": 3
   },
   "file_extension": ".py",
   "mimetype": "text/x-python",
   "name": "python",
   "nbconvert_exporter": "python",
   "pygments_lexer": "ipython3",
   "version": "3.7.3"
  },
  "toc": {
   "colors": {
    "hover_highlight": "#DAA520",
    "running_highlight": "#FF0000",
    "selected_highlight": "#FFD700"
   },
   "moveMenuLeft": true,
   "nav_menu": {
    "height": "30px",
    "width": "252px"
   },
   "navigate_menu": true,
   "number_sections": true,
   "sideBar": true,
   "threshold": 4,
   "toc_cell": false,
   "toc_section_display": "block",
   "toc_window_display": false,
   "widenNotebook": false
  }
 },
 "nbformat": 4,
 "nbformat_minor": 2
}
